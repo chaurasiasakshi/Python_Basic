{
 "cells": [
  {
   "cell_type": "markdown",
   "id": "44d4e73c-f901-45d8-9104-a2b66c2ead3a",
   "metadata": {},
   "source": [
    "####  6.Write a Python program to print all even numbers from 1 to 20"
   ]
  },
  {
   "cell_type": "code",
   "execution_count": 8,
   "id": "92f7ae1b-781a-48e0-86b4-741bc28ce89c",
   "metadata": {},
   "outputs": [
    {
     "name": "stdout",
     "output_type": "stream",
     "text": [
      "2\n",
      "4\n",
      "6\n",
      "8\n",
      "10\n",
      "12\n",
      "14\n",
      "16\n",
      "18\n",
      "20\n"
     ]
    }
   ],
   "source": [
    "for i in range(2,21,2):\n",
    "    print(i)"
   ]
  },
  {
   "cell_type": "markdown",
   "id": "bd07d719-0439-47ed-b420-c617680497e1",
   "metadata": {},
   "source": [
    "####  7.Calculate the sum of all numbers from 1 to a given number."
   ]
  },
  {
   "cell_type": "code",
   "execution_count": 19,
   "id": "1ff370e9-ad0e-49f7-b91c-0eee95ce1e7d",
   "metadata": {},
   "outputs": [
    {
     "name": "stdin",
     "output_type": "stream",
     "text": [
      "Enter a number:  5\n"
     ]
    },
    {
     "name": "stdout",
     "output_type": "stream",
     "text": [
      "Sum: 15\n"
     ]
    }
   ],
   "source": [
    "num = int(input(\"Enter a number: \"))\n",
    "sum_result = sum(range(1, num + 1))\n",
    "print(\"Sum:\", sum_result)        "
   ]
  },
  {
   "cell_type": "markdown",
   "id": "404dd1d4-8c8f-4f0d-9142-dadebcf03d29",
   "metadata": {},
   "source": [
    "#### 8.Write a Python program to check if a given string is a palindrome."
   ]
  },
  {
   "cell_type": "code",
   "execution_count": 32,
   "id": "36a9b9ad-0172-4cd6-9124-ed01ad2510c6",
   "metadata": {},
   "outputs": [
    {
     "name": "stdin",
     "output_type": "stream",
     "text": [
      "Enter a string value pop\n"
     ]
    },
    {
     "name": "stdout",
     "output_type": "stream",
     "text": [
      "Palindrome\n"
     ]
    }
   ],
   "source": [
    "def palindrome(n):\n",
    "    return n == n[::-1]\n",
    "\n",
    "\n",
    "string = input(\"Enter a string value\")\n",
    "if palindrome(string):\n",
    "    print(\"Palindrome\")\n",
    "else:\n",
    "    print(\"Not Palindrome\")"
   ]
  },
  {
   "cell_type": "markdown",
   "id": "22700a7e-8cc0-4047-b246-e0606f5bd694",
   "metadata": {},
   "source": [
    "#### 9.Reverse a given list in-place."
   ]
  },
  {
   "cell_type": "code",
   "execution_count": 41,
   "id": "61748b18-2ecf-4de9-812a-b9027f978975",
   "metadata": {},
   "outputs": [
    {
     "name": "stdout",
     "output_type": "stream",
     "text": [
      "[5, 4, 3, 2, 1]\n"
     ]
    }
   ],
   "source": [
    "list1 = [1,2,3,4,5]\n",
    "list1.reverse()\n",
    "print(list1)"
   ]
  },
  {
   "cell_type": "markdown",
   "id": "f8d3e8cd-d603-4fe2-9c08-6c1b77ed7ff3",
   "metadata": {},
   "source": [
    "#### 10.Remove duplicates from a list."
   ]
  },
  {
   "cell_type": "code",
   "execution_count": 42,
   "id": "21e834d4-d450-4065-8c61-ba5ce3a0ff75",
   "metadata": {},
   "outputs": [
    {
     "name": "stdout",
     "output_type": "stream",
     "text": [
      "[1, 2, 3, 4, 5, 6]\n"
     ]
    }
   ],
   "source": [
    "list1 = [1,2,3,4,5,5,6]\n",
    "unique = list(set(list1))\n",
    "print(unique)"
   ]
  },
  {
   "cell_type": "markdown",
   "id": "b2635ed1-8cec-4b7f-95b9-92e97ff84b14",
   "metadata": {},
   "source": [
    "#### 11. Check if a given number is prime."
   ]
  },
  {
   "cell_type": "code",
   "execution_count": 73,
   "id": "912353ee-aa91-4873-be64-d8002b94eaf0",
   "metadata": {},
   "outputs": [
    {
     "name": "stdin",
     "output_type": "stream",
     "text": [
      "Enter a number 45\n"
     ]
    },
    {
     "name": "stdout",
     "output_type": "stream",
     "text": [
      "45 is not a prime number\n"
     ]
    }
   ],
   "source": [
    "num = int(input(\"Enter a number\"))\n",
    "\n",
    "flag = False\n",
    "\n",
    "if num == 0 or num == 1:\n",
    "    print(num, \"is not a prime number\")\n",
    "elif num > 1:\n",
    "    for i in range(2, num):\n",
    "        if (num % i) == 0:\n",
    "            flag = True\n",
    "            break\n",
    "\n",
    "    \n",
    "    if flag:\n",
    "        print(num, \"is not a prime number\")\n",
    "    else:\n",
    "        print(num, \"is a prime number\")"
   ]
  },
  {
   "cell_type": "markdown",
   "id": "7b94fae5-1a2c-4b70-9574-e40eb4c95fef",
   "metadata": {},
   "source": [
    "#### 12.  Convert a string to uppercase."
   ]
  },
  {
   "cell_type": "code",
   "execution_count": 49,
   "id": "b5a98e87-aa0d-49b4-a6a5-ae8560f02487",
   "metadata": {},
   "outputs": [
    {
     "name": "stdin",
     "output_type": "stream",
     "text": [
      "Enter a word :  sakshi\n"
     ]
    },
    {
     "name": "stdout",
     "output_type": "stream",
     "text": [
      "SAKSHI\n"
     ]
    }
   ],
   "source": [
    "string = input(\"Enter a word : \")\n",
    "s = string.upper()\n",
    "print(s)"
   ]
  },
  {
   "cell_type": "markdown",
   "id": "ddad4997-1511-4014-b4a2-5178c25a2816",
   "metadata": {},
   "source": [
    "#### 13. Calculate the power of a number."
   ]
  },
  {
   "cell_type": "code",
   "execution_count": 55,
   "id": "8c60f995-a06d-4c19-a460-74f0b156da9c",
   "metadata": {},
   "outputs": [
    {
     "name": "stdin",
     "output_type": "stream",
     "text": [
      "Enter a number :  3\n"
     ]
    },
    {
     "name": "stdout",
     "output_type": "stream",
     "text": [
      "9\n"
     ]
    }
   ],
   "source": [
    "num = int(input(\"Enter a number : \"))\n",
    "p = num*num\n",
    "print(p)"
   ]
  },
  {
   "cell_type": "markdown",
   "id": "42dfac83-780c-4524-a90e-0134e4f9ea5d",
   "metadata": {},
   "source": [
    "#### 14. Calculate the square root of a given number."
   ]
  },
  {
   "cell_type": "code",
   "execution_count": 68,
   "id": "ad156091-ce99-407a-b14b-e2cd2c8c05c4",
   "metadata": {},
   "outputs": [
    {
     "name": "stdin",
     "output_type": "stream",
     "text": [
      "Enter a number 16\n"
     ]
    },
    {
     "name": "stdout",
     "output_type": "stream",
     "text": [
      "4.0\n",
      "4.0\n"
     ]
    }
   ],
   "source": [
    "a = int(input(\"Enter a number\"))\n",
    "root = a**0.5\n",
    "print(root)\n",
    "\n",
    "\n",
    "import math\n",
    "roots = math.sqrt(a)\n",
    "print(roots)"
   ]
  },
  {
   "cell_type": "markdown",
   "id": "425d4ad8-56cd-4c68-893f-72ab5d32b768",
   "metadata": {},
   "source": [
    "#### 15. Calculate the area of a circle with a given radius."
   ]
  },
  {
   "cell_type": "code",
   "execution_count": 58,
   "id": "49d775e8-9cec-4e7c-882b-834fad107816",
   "metadata": {},
   "outputs": [
    {
     "name": "stdin",
     "output_type": "stream",
     "text": [
      "Enter a radius of circle :  4\n"
     ]
    },
    {
     "name": "stdout",
     "output_type": "stream",
     "text": [
      "Area of a Circle is :  50.24\n"
     ]
    }
   ],
   "source": [
    "r = int(input(\"Enter a radius of circle : \"))\n",
    "print(\"Area of a Circle is : \", 3.14 * r * r)"
   ]
  },
  {
   "cell_type": "code",
   "execution_count": null,
   "id": "70081c98-3179-4f62-b50b-7932526cf26a",
   "metadata": {},
   "outputs": [],
   "source": []
  }
 ],
 "metadata": {
  "kernelspec": {
   "display_name": "Python 3 (ipykernel)",
   "language": "python",
   "name": "python3"
  },
  "language_info": {
   "codemirror_mode": {
    "name": "ipython",
    "version": 3
   },
   "file_extension": ".py",
   "mimetype": "text/x-python",
   "name": "python",
   "nbconvert_exporter": "python",
   "pygments_lexer": "ipython3",
   "version": "3.11.9"
  }
 },
 "nbformat": 4,
 "nbformat_minor": 5
}
