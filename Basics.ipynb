{
 "cells": [
  {
   "cell_type": "markdown",
   "id": "e789b4e2-8c4b-4d4e-95b1-815c9798bca5",
   "metadata": {},
   "source": [
    "#### 1.Write a Python program to print \"Hello, World!\"."
   ]
  },
  {
   "cell_type": "code",
   "execution_count": 1,
   "id": "ee71cdcf-0738-4cf2-a433-ebdbfc4a8dd1",
   "metadata": {},
   "outputs": [
    {
     "name": "stdout",
     "output_type": "stream",
     "text": [
      "Hello,World!\n"
     ]
    }
   ],
   "source": [
    "print(\"Hello,World!\")"
   ]
  },
  {
   "cell_type": "markdown",
   "id": "a60af039-1d2d-4b3e-bbee-55b77ad9ab63",
   "metadata": {},
   "source": [
    "#### 2.Calculate the sum of two numbers entered by the user."
   ]
  },
  {
   "cell_type": "code",
   "execution_count": 6,
   "id": "9b4ef5ac-86d8-4f71-ab17-16a5cbf36411",
   "metadata": {},
   "outputs": [
    {
     "name": "stdin",
     "output_type": "stream",
     "text": [
      "Enter the first number :  5\n",
      "Enter the second number :  5\n"
     ]
    },
    {
     "name": "stdout",
     "output_type": "stream",
     "text": [
      "Sum of number is :  10\n"
     ]
    }
   ],
   "source": [
    "num1 = int(input(\"Enter the first number : \"))\n",
    "num2 = int(input(\"Enter the second number : \"))\n",
    "sum_res = num1 + num2\n",
    "print('Sum of number is : ',sum_res)"
   ]
  },
  {
   "cell_type": "markdown",
   "id": "803d6a57-6929-4b87-b701-5658e6204184",
   "metadata": {},
   "source": [
    "#### 3.Write a Python program to check if a given number is even or odd."
   ]
  },
  {
   "cell_type": "code",
   "execution_count": 8,
   "id": "94d5afa1-0f8c-4e2b-99dd-497b3b7a9801",
   "metadata": {},
   "outputs": [
    {
     "name": "stdin",
     "output_type": "stream",
     "text": [
      "Enter a number 5\n"
     ]
    },
    {
     "name": "stdout",
     "output_type": "stream",
     "text": [
      "Odd number\n"
     ]
    }
   ],
   "source": [
    "num = int(input(\"Enter a number\"))\n",
    "if num % 2 ==0 :\n",
    "    print(\"Even number\")\n",
    "else :\n",
    "    print(\"Odd number\")"
   ]
  },
  {
   "cell_type": "markdown",
   "id": "5720e93c-f21b-44a2-94b5-5425cd2388c8",
   "metadata": {},
   "source": [
    "#### 4.Calculate the factorial of a given number."
   ]
  },
  {
   "cell_type": "code",
   "execution_count": 11,
   "id": "112d01fe-b5b9-4916-9fef-8ef8ebc31bca",
   "metadata": {},
   "outputs": [
    {
     "name": "stdin",
     "output_type": "stream",
     "text": [
      "Enter a number:  5\n"
     ]
    },
    {
     "name": "stdout",
     "output_type": "stream",
     "text": [
      "Factorial: 120\n"
     ]
    }
   ],
   "source": [
    "def factorial(n):\n",
    "  if n == 0 or n == 1:\n",
    "    return 1\n",
    "  else:\n",
    "    return n * factorial(n - 1)\n",
    "\n",
    "num = int(input(\"Enter a number: \"))\n",
    "print(\"Factorial:\", factorial(num)) "
   ]
  },
  {
   "cell_type": "markdown",
   "id": "a0f3e02f-7d47-4156-840c-0dfb4745b95a",
   "metadata": {},
   "source": [
    "#### 5.Find the largest among three numbers entered by the user."
   ]
  },
  {
   "cell_type": "code",
   "execution_count": 12,
   "id": "82a5c571-1df9-4715-9c94-64e11c4cd35e",
   "metadata": {},
   "outputs": [
    {
     "name": "stdin",
     "output_type": "stream",
     "text": [
      "Enter the first number :  4\n",
      "Enter the second number :  5\n",
      "Enter the third number :  6\n"
     ]
    },
    {
     "name": "stdout",
     "output_type": "stream",
     "text": [
      "Largest number is :  6\n"
     ]
    }
   ],
   "source": [
    "num1 = int(input(\"Enter the first number : \"))\n",
    "num2 = int(input(\"Enter the second number : \"))\n",
    "num3 = int(input(\"Enter the third number : \"))\n",
    "largest = max(num1,num2,num3)\n",
    "print(\"Largest number is : \", largest)"
   ]
  },
  {
   "cell_type": "markdown",
   "id": "f1340de4-9707-4fb4-8cac-b33510e9aa06",
   "metadata": {},
   "source": [
    "."
   ]
  }
 ],
 "metadata": {
  "kernelspec": {
   "display_name": "Python 3 (ipykernel)",
   "language": "python",
   "name": "python3"
  },
  "language_info": {
   "codemirror_mode": {
    "name": "ipython",
    "version": 3
   },
   "file_extension": ".py",
   "mimetype": "text/x-python",
   "name": "python",
   "nbconvert_exporter": "python",
   "pygments_lexer": "ipython3",
   "version": "3.11.9"
  }
 },
 "nbformat": 4,
 "nbformat_minor": 5
}
